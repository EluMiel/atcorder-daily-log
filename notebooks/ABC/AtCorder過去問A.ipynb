{
  "nbformat": 4,
  "nbformat_minor": 0,
  "metadata": {
    "colab": {
      "provenance": []
    },
    "kernelspec": {
      "name": "python3",
      "display_name": "Python 3"
    },
    "language_info": {
      "name": "python"
    }
  },
  "cells": [
    {
      "cell_type": "markdown",
      "source": [
        "### A - Too Many Requests"
      ],
      "metadata": {
        "id": "CFbdQuRjyZBs"
      }
    },
    {
      "cell_type": "code",
      "source": [
        "n, m = map(int, input().split())\n",
        "for i in range(1, n + 1):\n",
        "    if i <= m:\n",
        "        print(\"OK\")\n",
        "    else:\n",
        "        print(\"Too Many Requests\")"
      ],
      "metadata": {
        "id": "X7iQYo-Lyczd"
      },
      "execution_count": null,
      "outputs": []
    },
    {
      "cell_type": "markdown",
      "source": [
        "05:28 繰り返し構文・条件分岐\n",
        "- 三項演算子を使うともっとシンプルに書くことができる。  \n",
        "print(\"ok\" if i <= m else print(\"Too Many Requests\"))\n",
        "- ループ条件の「+1」忘れに注意。\n",
        "- 条件式が短いときはワンライナーも有効。"
      ],
      "metadata": {
        "id": "xmHBZgT3yhyQ"
      }
    },
    {
      "cell_type": "markdown",
      "source": [
        "### A - Grandma's Footsteps"
      ],
      "metadata": {
        "id": "4s-4U8Gl0sGA"
      }
    },
    {
      "cell_type": "code",
      "source": [
        "s, a, b, x = map(int, input().split())\n",
        "dist = 0  # 走った距離\n",
        "total_time = 0\n",
        "\n",
        "while True:\n",
        "    if (total_time + a) <= x:\n",
        "        dist += s * a\n",
        "        total_time += a\n",
        "    elif (total_time + a) > x:\n",
        "        dist += s * (x - total_time)\n",
        "        break\n",
        "    if (total_time + b) <= x:\n",
        "        total_time += b\n",
        "    elif (total_time + b) > x:\n",
        "        break\n",
        "\n",
        "print(dist)"
      ],
      "metadata": {
        "id": "idLyFRNx0uXe"
      },
      "execution_count": null,
      "outputs": []
    },
    {
      "cell_type": "markdown",
      "source": [
        "8:24 シミュレーション→数式変換パターン\n",
        "- O(1)数式解で解くのが定石。\n",
        "- ループで書く前に\"**繰り返し構文=数式化できるか**\"を考える。\n",
        "- A問題は基本的に数式・シミュレーション・文字列処理のどれかに分類される。\n",
        "- 今回は「周期パターン+剰余処理」タイプ。"
      ],
      "metadata": {
        "id": "y8V83_So1Pp3"
      }
    },
    {
      "cell_type": "markdown",
      "source": [
        "### A - Grandma's Footsteps(模範解答)"
      ],
      "metadata": {
        "id": "iJwjLjs7C_9Y"
      }
    },
    {
      "cell_type": "code",
      "source": [
        "s, a, b, x = map(int, input(),split())\n",
        "k = x // (a + b)  # フルサイクル回数(1サイクル= a + b)\n",
        "r = x % (a + b)  # 余り時間→走れるのはmin(r, a)\n",
        "dist = (s * a * k) + (s * min(r, a))\n",
        "print(dist)"
      ],
      "metadata": {
        "id": "Ajgp4vYvC_ER"
      },
      "execution_count": null,
      "outputs": []
    },
    {
      "cell_type": "markdown",
      "source": [
        "### A - ABC -> AC"
      ],
      "metadata": {
        "id": "PPVueKx3dYSt"
      }
    },
    {
      "cell_type": "code",
      "source": [
        "s = input()\n",
        "mid = (len(s) + 1) // 2  #真ん中の位置\n",
        "print(s[:mid - 1] + s[mid:])"
      ],
      "metadata": {
        "id": "as77cYhgdcqc"
      },
      "execution_count": null,
      "outputs": []
    },
    {
      "cell_type": "markdown",
      "source": [
        "5:22"
      ],
      "metadata": {
        "id": "4h3UBsfkdfPq"
      }
    },
    {
      "cell_type": "markdown",
      "source": [
        "### A - OS Versions"
      ],
      "metadata": {
        "id": "n2sgUtxifaNK"
      }
    },
    {
      "cell_type": "code",
      "source": [
        "x , y = input().split()\n",
        "if x == \"Ocelot\":\n",
        "    print(\"Yes\" if y == \"Ocelot\" else \"No\")\n",
        "if x == \"Serval\":\n",
        "    print(\"Yes\" if y != \"Lynx\" else \"No\")\n",
        "if x == \"Lynx\":\n",
        "    print(\"Yes\")"
      ],
      "metadata": {
        "id": "pFrf-sB5fgy7"
      },
      "execution_count": null,
      "outputs": []
    },
    {
      "cell_type": "markdown",
      "source": [
        "6:51 WA:1 (出力形式\"Yes\"を\"YES\"にしていた。)"
      ],
      "metadata": {
        "id": "vevmgXFlfiU3"
      }
    }
  ]
}